{
 "metadata": {
  "celltoolbar": "Slideshow",
  "name": "",
  "signature": "sha256:1f129db22e83ff9df4dfb45cb0b00df6e8a049544843ecf26ff7bb81accfc002"
 },
 "nbformat": 3,
 "nbformat_minor": 0,
 "worksheets": [
  {
   "cells": [
    {
     "cell_type": "heading",
     "level": 1,
     "metadata": {
      "slideshow": {
       "slide_type": "slide"
      }
     },
     "source": [
      "Tupper\u2019s Self-Referential Formula"
     ]
    },
    {
     "cell_type": "markdown",
     "metadata": {
      "slideshow": {
       "slide_type": "-"
      }
     },
     "source": [
      "$$\\displaystyle  \\frac12 < \\left\\lfloor \\mathrm{mod} \\left( \\left\\lfloor{\\frac{y}{17}}\\right\\rfloor 2^{-17\\lfloor x \\rfloor - \\mathrm{mod}(\\lfloor y \\rfloor, 17)}, 2 \\right) \\right\\rfloor$$\n",
      "\n",
      "In the region $$0 < x <= 106$$ $$N < y <= N + 17$$ where \n",
      "$$N =\\\\ \n",
      "48584506361897134235820959624942020445814005879832\\\\\n",
      "44549483093085061934704708809928450644769865524364\\\\\n",
      "84999724702491511911041160573917740785691975432657\\\\\n",
      "18554420572104457358836818298237541396343382251994\\\\\n",
      "52191651284348332905131193199953502413758765239264\\\\\n",
      "87461339490687013056229581321948111368533953556529\\\\\n",
      "08500238750928568926945559742815463865107300491067\\\\\n",
      "23058933586052544096664351265349363643957125565695\\\\\n",
      "93681518433485760526694016125126695142155053955451\\\\\n",
      "91537854575257565907405401579290017659679654800644\\\\\n",
      "27829131488548259914721248506352686630476300$$ \n",
      "\n",
      "(a 544-decimal digits number), it plots itself."
     ]
    },
    {
     "cell_type": "heading",
     "level": 1,
     "metadata": {
      "slideshow": {
       "slide_type": "slide"
      }
     },
     "source": [
      "Stupidly simple implementation"
     ]
    },
    {
     "cell_type": "markdown",
     "metadata": {},
     "source": [
      "The implementation below has been written in order to demonstrate the maths in the most obvious way, so the code would contain the referenced formula virtually without any changes, with just a small addition for preparation and plotting. This simplicity has been achieved thanks to *Python 2.7* (and specifically to the bundled *decimal* module), *NumPy 1.8* and *matplotlib 1.4*.\n",
      "\n",
      "Without any doubts, this is also one of the least optimal implementations possible (from the computational perspective), but it leaves a touch of magic on the audience."
     ]
    },
    {
     "cell_type": "code",
     "collapsed": false,
     "input": [
      "%pylab inline\n",
      "import decimal\n",
      "D = decimal.Decimal\n",
      "\n",
      "######################################################################\n",
      "# Tupper's Self-Referencial Formula itself\n",
      "######################################################################\n",
      "tsrf = lambda x, y: .5 < int(y / 17 * D(2) ** (-17 * x - y % 17) % 2)\n",
      "######################################################################\n",
      "\n",
      "def plott(N):\n",
      "    nx, ny = 106, 17\n",
      "    mesh = meshgrid(range(nx), range(N, N + ny))\n",
      "    decimal.getcontext().prec = 550\n",
      "    vtsrf = vectorize(tsrf)\n",
      "    imshow(vtsrf(*mesh), origin='lower', interpolation='none', cmap='Greys')"
     ],
     "language": "python",
     "metadata": {},
     "outputs": [
      {
       "output_type": "stream",
       "stream": "stdout",
       "text": [
        "Populating the interactive namespace from numpy and matplotlib\n"
       ]
      }
     ],
     "prompt_number": 156
    },
    {
     "cell_type": "code",
     "collapsed": false,
     "input": [
      "N = 4858450636189713423582095962494202044581400587983244549483093085061934704708809928450644769865524364849997247024915119110411605739177407856919754326571855442057210445735883681829823754139634338225199452191651284348332905131193199953502413758765239264874613394906870130562295813219481113685339535565290850023875092856892694555974281546386510730049106723058933586052544096664351265349363643957125565695936815184334857605266940161251266951421550539554519153785457525756590740540157929001765967965480064427829131488548259914721248506352686630476300\n",
      "%time plott(N)"
     ],
     "language": "python",
     "metadata": {
      "slideshow": {
       "slide_type": "subslide"
      }
     },
     "outputs": [
      {
       "output_type": "stream",
       "stream": "stdout",
       "text": [
        "CPU times: user 24.8 s, sys: 52 ms, total: 24.8 s\n",
        "Wall time: 27.5 s\n"
       ]
      },
      {
       "metadata": {},
       "output_type": "display_data",
       "png": "[encoded data removed]",
       "text": [
        "<matplotlib.figure.Figure at 0xb0818f2c>"
       ]
      }
     ],
     "prompt_number": 157
    },
    {
     "cell_type": "heading",
     "level": 1,
     "metadata": {
      "slideshow": {
       "slide_type": "slide"
      }
     },
     "source": [
      "The Library of Babel"
     ]
    },
    {
     "cell_type": "markdown",
     "metadata": {},
     "source": [
      "Considering all $N$, the title \"Self-Referential\" turns out to be completly irrelevant, as what the function plots is just a \"swath\" of all possible 106 px * 17 px monochrome images. The binary representation of an image $k$ becomes also the index of this image in the \"swath\": $N = 17k$.\n",
      "\n",
      "Hence, \"The Library of Babel Function\" would be more appropriate title for the formula. Indeed, this swath-like \"library\" contains every piece of art, even yet to be written or paint (considering said technical restrictions on the color palette and size)."
     ]
    },
    {
     "cell_type": "markdown",
     "metadata": {
      "slideshow": {
       "slide_type": "subslide"
      }
     },
     "source": [
      "For example, if\n",
      "$$N =\\\\\n",
      "68678424193225002920395142462255665486944979185722\\\\\n",
      "04966193120695895466697242019607986214275742418356\\\\\n",
      "04277437354611331707609275785738683176548195243376\\\\\n",
      "32390114664684850535583707287372092479231153101576\\\\\n",
      "34159606011081086584819213247737695402309519389712\\\\\n",
      "83155567355233858041579773155412159856834611444150\\\\\n",
      "17491238633641684955510136261227521926756225523718\\\\\n",
      "25547843354785326853568169118425179347788852916658\\\\\n",
      "90813872819942538239966452703242051625097560260470\\\\\n",
      "095370149622655746048\n",
      "$$\n",
      "\n",
      "(a 471-digits number), then it plots something very valid as well."
     ]
    },
    {
     "cell_type": "code",
     "collapsed": false,
     "input": [
      "N2 = 686784241932250029203951424622556654869449791857220496619312069589546669724201960798621427574241835604277437354611331707609275785738683176548195243376323901146646848505355837072873720924792311531015763415960601108108658481921324773769540230951938971283155567355233858041579773155412159856834611444150174912386336416849555101362612275219267562255237182554784335478532685356816911842517934778885291665890813872819942538239966452703242051625097560260470095370149622655746048\n",
      "%time plott(N2)"
     ],
     "language": "python",
     "metadata": {
      "slideshow": {
       "slide_type": "subslide"
      }
     },
     "outputs": [
      {
       "output_type": "stream",
       "stream": "stdout",
       "text": [
        "CPU times: user 24.9 s, sys: 32 ms, total: 24.9 s\n",
        "Wall time: 25.9 s\n"
       ]
      },
      {
       "metadata": {},
       "output_type": "display_data",
       "png": "[encoded data removed]",
       "text": [
        "<matplotlib.figure.Figure at 0xb08c74cc>"
       ]
      }
     ],
     "prompt_number": 158
    },
    {
     "cell_type": "heading",
     "level": 1,
     "metadata": {
      "slideshow": {
       "slide_type": "slide"
      }
     },
     "source": [
      "Look ma, no maths"
     ]
    },
    {
     "cell_type": "markdown",
     "metadata": {},
     "source": [
      "Now, as it becomes apparent, that the formula just decodes a bitmap from $N$, it would be a shame not to implement the \"backend\" in a more efficient way."
     ]
    },
    {
     "cell_type": "code",
     "collapsed": false,
     "input": [
      "def drawt(N, ip='none'):\n",
      "    nx, ny = 106, 17\n",
      "    spec = '{{:0{0}b}}'.format(nx * ny)\n",
      "    bitmap = array(map(int, list(spec.format(N / ny))))\n",
      "    bitmap.shape = nx, ny\n",
      "    imshow(rot90(bitmap, 3), interpolation=ip, cmap='Greys')"
     ],
     "language": "python",
     "metadata": {},
     "outputs": [],
     "prompt_number": 159
    },
    {
     "cell_type": "code",
     "collapsed": false,
     "input": [
      "%time drawt(N)"
     ],
     "language": "python",
     "metadata": {
      "slideshow": {
       "slide_type": "-"
      }
     },
     "outputs": [
      {
       "output_type": "stream",
       "stream": "stdout",
       "text": [
        "CPU times: user 40 ms, sys: 8 ms, total: 48 ms\n",
        "Wall time: 113 ms\n"
       ]
      },
      {
       "metadata": {},
       "output_type": "display_data",
       "png": "[encoded data removed]",
       "text": [
        "<matplotlib.figure.Figure at 0xb08882ec>"
       ]
      }
     ],
     "prompt_number": 160
    },
    {
     "cell_type": "markdown",
     "metadata": {},
     "source": [
      "Almost 1000 times faster."
     ]
    },
    {
     "cell_type": "markdown",
     "metadata": {
      "slideshow": {
       "slide_type": "subslide"
      }
     },
     "source": [
      "And, surely enough, the second image can still be found on it's old place."
     ]
    },
    {
     "cell_type": "code",
     "collapsed": false,
     "input": [
      "%time drawt(N2)"
     ],
     "language": "python",
     "metadata": {},
     "outputs": [
      {
       "output_type": "stream",
       "stream": "stdout",
       "text": [
        "CPU times: user 100 ms, sys: 4 ms, total: 104 ms\n",
        "Wall time: 165 ms\n"
       ]
      },
      {
       "metadata": {},
       "output_type": "display_data",
       "png": "[encoded data removed]",
       "text": [
        "<matplotlib.figure.Figure at 0xb08e4fec>"
       ]
      }
     ],
     "prompt_number": 161
    },
    {
     "cell_type": "markdown",
     "metadata": {
      "slideshow": {
       "slide_type": "subslide"
      }
     },
     "source": [
      "Let's just add some glance to it!"
     ]
    },
    {
     "cell_type": "code",
     "collapsed": false,
     "input": [
      "%time drawt(N2, ip=None)"
     ],
     "language": "python",
     "metadata": {
      "slideshow": {
       "slide_type": "-"
      }
     },
     "outputs": [
      {
       "output_type": "stream",
       "stream": "stdout",
       "text": [
        "CPU times: user 36 ms, sys: 8 ms, total: 44 ms\n",
        "Wall time: 95.7 ms\n"
       ]
      },
      {
       "metadata": {},
       "output_type": "display_data",
       "png": "[encoded data removed]",
       "text": [
        "<matplotlib.figure.Figure at 0xb080b2cc>"
       ]
      }
     ],
     "prompt_number": 162
    },
    {
     "cell_type": "markdown",
     "metadata": {
      "slideshow": {
       "slide_type": "subslide"
      }
     },
     "source": [
      "Let's explore the library a bit and  take a look at another number, just to make sure, that the formula is still telling valid points:\n",
      "$$N =\\\\\n",
      "27235362581231090284803213496954235493292762673931\\\\\n",
      "00604183643014580531090645921142774380624249809199\\\\\n",
      "82790504458321224310907603842935330144499609861299\\\\\n",
      "71640215307850781405026222372672444601909333720515\\\\\n",
      "11713465546848192454959142114822715509367991771239\\\\\n",
      "66745317437392966954084243392283879881908750776722\\\\\n",
      "49023574079225521706507859547402969445439075802412\\\\\n",
      "22122136087231305375052503697702256419713024358461\\\\\n",
      "38390072248401423456148982222067017714136128932086\\\\\n",
      "74473194427874592421381945862038234160524704088064\n",
      "$$"
     ]
    },
    {
     "cell_type": "code",
     "collapsed": false,
     "input": [
      "N3 = 27235362581231090284803213496954235493292762673931006041836430145805310906459211427743806242498091998279050445832122431090760384293533014449960986129971640215307850781405026222372672444601909333720515117134655468481924549591421148227155093679917712396674531743739296695408424339228387988190875077672249023574079225521706507859547402969445439075802412221221360872313053750525036977022564197130243584613839007224840142345614898222206701771413612893208674473194427874592421381945862038234160524704088064\n",
      "%time drawt(N3, ip=None)"
     ],
     "language": "python",
     "metadata": {
      "slideshow": {
       "slide_type": "subslide"
      }
     },
     "outputs": [
      {
       "output_type": "stream",
       "stream": "stdout",
       "text": [
        "CPU times: user 40 ms, sys: 8 ms, total: 48 ms\n",
        "Wall time: 122 ms\n"
       ]
      },
      {
       "metadata": {},
       "output_type": "display_data",
       "png": "[encoded data removed]",
       "text": [
        "<matplotlib.figure.Figure at 0xb096d98c>"
       ]
      }
     ],
     "prompt_number": 163
    },
    {
     "cell_type": "markdown",
     "metadata": {},
     "source": [
      "Yep, everything is in order, since it knows William Shakespeare's play Hamlet. As stated, the library contains everything. Literally. Everything."
     ]
    },
    {
     "cell_type": "markdown",
     "metadata": {
      "slideshow": {
       "slide_type": "slide"
      }
     },
     "source": [
      "![Creative Commons License](https://i.creativecommons.org/l/by-sa/4.0/88x31.png)\n",
      "\n",
      "Tupper\u2019s Self-Referential Formula by Al Nikolov is licensed under a [Creative Commons Attribution-ShareAlike 4.0 International License](http://creativecommons.org/licenses/by-sa/4.0/).\n",
      "\n",
      "Based on works at:\n",
      "\n",
      "* http://en.wikipedia.org/wiki/Tupper%27s_self-referential_formula\n",
      "* http://en.wikipedia.org/wiki/The_Library_of_Babel\n",
      "\n",
      "Copyright 2015 Al Nikolov"
     ]
    }
   ],
   "metadata": {}
  }
 ]
}